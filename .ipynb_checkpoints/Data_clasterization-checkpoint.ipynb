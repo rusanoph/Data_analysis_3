{
 "cells": [
  {
   "cell_type": "markdown",
   "id": "db31969a",
   "metadata": {},
   "source": [
    "<a id=\"contents\"></a>\n",
    "__Кластеризация данных__\n",
    "\n",
    "Структура блокнота:\n",
    "\n",
    "1. [Предварительная обработка данных](#title_1)\n",
    "    * [Вывод первых 10 записей датасета](#title_11)\n",
    "    * [Предварительная оценка данных](#title_12)\n",
    "    * [Названия столбцов и выявление проблем с названиями](#title_13)\n",
    "    * [Выявление пропусков и их устранение](#title_14)\n",
    "    * [Проверка дубликатов и их устранение](#title_15)\n",
    "    * [Проверка типов данных](#title_16)\n",
    "    \n",
    "2. [Выполнение кластеризации объектов](#title_2)\n",
    "    * [Иерархический агломеративный метод](#title_21)\n",
    "    * [Метод K-средних](#title_22)\n",
    "    * [Описание полученных кластеров в терминах предметной области](#title_23)\n"
   ]
  },
  {
   "cell_type": "markdown",
   "id": "b38f352a",
   "metadata": {},
   "source": [
    "<a id=\"title_1\"></a>\n",
    "# 0. Предварительная обработка данных\n"
   ]
  },
  {
   "cell_type": "markdown",
   "id": "d539152d",
   "metadata": {},
   "source": [
    "<a id=\"title_11\"></a>\n",
    "__Вывод первых 10 записей датасета__\n",
    "\n",
    "Здесь происходит подключение необходимых для работы библиотек, загрузка данных и отображение первых 10 строк датасета."
   ]
  },
  {
   "cell_type": "code",
   "execution_count": 1,
   "id": "ae644e91",
   "metadata": {},
   "outputs": [
    {
     "data": {
      "text/html": [
       "<div>\n",
       "<style scoped>\n",
       "    .dataframe tbody tr th:only-of-type {\n",
       "        vertical-align: middle;\n",
       "    }\n",
       "\n",
       "    .dataframe tbody tr th {\n",
       "        vertical-align: top;\n",
       "    }\n",
       "\n",
       "    .dataframe thead th {\n",
       "        text-align: right;\n",
       "    }\n",
       "</style>\n",
       "<table border=\"1\" class=\"dataframe\">\n",
       "  <thead>\n",
       "    <tr style=\"text-align: right;\">\n",
       "      <th></th>\n",
       "      <th>Age</th>\n",
       "      <th>Gender</th>\n",
       "      <th>TotalBilirubin</th>\n",
       "      <th>Direct_Bilirubin</th>\n",
       "      <th>Alkaline_Phosphotase</th>\n",
       "      <th>Alamine_Aminotransferase</th>\n",
       "      <th>Aspartate_Aminotransferase</th>\n",
       "      <th>Total_Protiens</th>\n",
       "      <th>Albumin</th>\n",
       "      <th>Albumin_and_Globulin_Ratio</th>\n",
       "      <th>Dataset123</th>\n",
       "    </tr>\n",
       "  </thead>\n",
       "  <tbody>\n",
       "    <tr>\n",
       "      <th>0</th>\n",
       "      <td>65</td>\n",
       "      <td>Female</td>\n",
       "      <td>0.7</td>\n",
       "      <td>0.1</td>\n",
       "      <td>187.0</td>\n",
       "      <td>16</td>\n",
       "      <td>18</td>\n",
       "      <td>6.8</td>\n",
       "      <td>3.3</td>\n",
       "      <td>0.90</td>\n",
       "      <td>1</td>\n",
       "    </tr>\n",
       "    <tr>\n",
       "      <th>1</th>\n",
       "      <td>62</td>\n",
       "      <td>Male</td>\n",
       "      <td>10.9</td>\n",
       "      <td>5.5</td>\n",
       "      <td>699.0</td>\n",
       "      <td>64</td>\n",
       "      <td>100</td>\n",
       "      <td>7.5</td>\n",
       "      <td>3.2</td>\n",
       "      <td>0.74</td>\n",
       "      <td>1</td>\n",
       "    </tr>\n",
       "    <tr>\n",
       "      <th>2</th>\n",
       "      <td>62</td>\n",
       "      <td>Male</td>\n",
       "      <td>7.3</td>\n",
       "      <td>4.1</td>\n",
       "      <td>490.0</td>\n",
       "      <td>60</td>\n",
       "      <td>68</td>\n",
       "      <td>7.0</td>\n",
       "      <td>3.3</td>\n",
       "      <td>0.89</td>\n",
       "      <td>1</td>\n",
       "    </tr>\n",
       "    <tr>\n",
       "      <th>3</th>\n",
       "      <td>58</td>\n",
       "      <td>Male</td>\n",
       "      <td>1.0</td>\n",
       "      <td>0.4</td>\n",
       "      <td>182.0</td>\n",
       "      <td>14</td>\n",
       "      <td>20</td>\n",
       "      <td>6.8</td>\n",
       "      <td>3.4</td>\n",
       "      <td>1.00</td>\n",
       "      <td>1</td>\n",
       "    </tr>\n",
       "    <tr>\n",
       "      <th>4</th>\n",
       "      <td>72</td>\n",
       "      <td>Male</td>\n",
       "      <td>3.9</td>\n",
       "      <td>2.0</td>\n",
       "      <td>195.0</td>\n",
       "      <td>27</td>\n",
       "      <td>59</td>\n",
       "      <td>7.3</td>\n",
       "      <td>2.4</td>\n",
       "      <td>0.40</td>\n",
       "      <td>1</td>\n",
       "    </tr>\n",
       "    <tr>\n",
       "      <th>5</th>\n",
       "      <td>46</td>\n",
       "      <td>Male</td>\n",
       "      <td>1.8</td>\n",
       "      <td>0.7</td>\n",
       "      <td>208.0</td>\n",
       "      <td>19</td>\n",
       "      <td>14</td>\n",
       "      <td>7.6</td>\n",
       "      <td>4.4</td>\n",
       "      <td>1.30</td>\n",
       "      <td>1</td>\n",
       "    </tr>\n",
       "    <tr>\n",
       "      <th>6</th>\n",
       "      <td>26</td>\n",
       "      <td>Female</td>\n",
       "      <td>0.9</td>\n",
       "      <td>0.2</td>\n",
       "      <td>154.0</td>\n",
       "      <td>16</td>\n",
       "      <td>12</td>\n",
       "      <td>7.0</td>\n",
       "      <td>3.5</td>\n",
       "      <td>1.00</td>\n",
       "      <td>1</td>\n",
       "    </tr>\n",
       "    <tr>\n",
       "      <th>7</th>\n",
       "      <td>29</td>\n",
       "      <td>Female</td>\n",
       "      <td>0.9</td>\n",
       "      <td>0.3</td>\n",
       "      <td>202.0</td>\n",
       "      <td>14</td>\n",
       "      <td>11</td>\n",
       "      <td>6.7</td>\n",
       "      <td>3.6</td>\n",
       "      <td>1.10</td>\n",
       "      <td>1</td>\n",
       "    </tr>\n",
       "    <tr>\n",
       "      <th>8</th>\n",
       "      <td>17</td>\n",
       "      <td>Male</td>\n",
       "      <td>0.9</td>\n",
       "      <td>0.3</td>\n",
       "      <td>202.0</td>\n",
       "      <td>22</td>\n",
       "      <td>19</td>\n",
       "      <td>7.4</td>\n",
       "      <td>4.1</td>\n",
       "      <td>1.20</td>\n",
       "      <td>2</td>\n",
       "    </tr>\n",
       "    <tr>\n",
       "      <th>9</th>\n",
       "      <td>55</td>\n",
       "      <td>Male</td>\n",
       "      <td>0.7</td>\n",
       "      <td>0.2</td>\n",
       "      <td>290.0</td>\n",
       "      <td>53</td>\n",
       "      <td>58</td>\n",
       "      <td>6.8</td>\n",
       "      <td>3.4</td>\n",
       "      <td>1.00</td>\n",
       "      <td>1</td>\n",
       "    </tr>\n",
       "  </tbody>\n",
       "</table>\n",
       "</div>"
      ],
      "text/plain": [
       "   Age  Gender  TotalBilirubin  Direct_Bilirubin  Alkaline_Phosphotase  \\\n",
       "0   65  Female             0.7               0.1                 187.0   \n",
       "1   62    Male            10.9               5.5                 699.0   \n",
       "2   62    Male             7.3               4.1                 490.0   \n",
       "3   58    Male             1.0               0.4                 182.0   \n",
       "4   72    Male             3.9               2.0                 195.0   \n",
       "5   46    Male             1.8               0.7                 208.0   \n",
       "6   26  Female             0.9               0.2                 154.0   \n",
       "7   29  Female             0.9               0.3                 202.0   \n",
       "8   17    Male             0.9               0.3                 202.0   \n",
       "9   55    Male             0.7               0.2                 290.0   \n",
       "\n",
       "   Alamine_Aminotransferase Aspartate_Aminotransferase  Total_Protiens  \\\n",
       "0                        16                         18             6.8   \n",
       "1                        64                        100             7.5   \n",
       "2                        60                         68             7.0   \n",
       "3                        14                         20             6.8   \n",
       "4                        27                         59             7.3   \n",
       "5                        19                         14             7.6   \n",
       "6                        16                         12             7.0   \n",
       "7                        14                         11             6.7   \n",
       "8                        22                         19             7.4   \n",
       "9                        53                         58             6.8   \n",
       "\n",
       "   Albumin  Albumin_and_Globulin_Ratio Dataset123  \n",
       "0      3.3                        0.90          1  \n",
       "1      3.2                        0.74          1  \n",
       "2      3.3                        0.89          1  \n",
       "3      3.4                        1.00          1  \n",
       "4      2.4                        0.40          1  \n",
       "5      4.4                        1.30          1  \n",
       "6      3.5                        1.00          1  \n",
       "7      3.6                        1.10          1  \n",
       "8      4.1                        1.20          2  \n",
       "9      3.4                        1.00          1  "
      ]
     },
     "execution_count": 1,
     "metadata": {},
     "output_type": "execute_result"
    }
   ],
   "source": [
    "import pandas as pd\n",
    "import matplotlib.pyplot as plt\n",
    "\n",
    "dataset_path = '../liver.csv'\n",
    "df = pd.read_csv(dataset_path)\n",
    "\n",
    "df.head(10)"
   ]
  },
  {
   "cell_type": "markdown",
   "id": "9d82a91f",
   "metadata": {},
   "source": [
    "<a id=\"title_12\"></a>\n",
    "__Предварительная оценка данных__\n",
    "\n",
    "Датасет заболеваемости печени состоит из 587 записей и 11 колонок.\n",
    "\n",
    "По таблице ниже можно сказать, что столбцы TotalBilirubin (Общий билирубин), Alkaline_Phosphotase (Щелочная фосфатаза) и Albumin_and_Globulin_Ratio (Соотношение альбуминов и глобулинов) содержат null значения (пропуски) в размере 2, 1 и 4 и записей, соответственно. Всего 7 записей с пропуском значений.\n",
    "\n",
    "Столбцы Gender (Пол), Aspartate_Aminotransferase (Аспартат-атаминотрансфераза) и Dataset123 (Поле, отвечающее за состояние пациента - болен\\здоров) имеют не соответствия в типах данных. Следует заменить типы на category, int64 и bool, соответственно.\n",
    "\n",
    "Также название столбца 'Dataset123' не отражает его назначения. Его следует заменить на 'Is_sick'.\n",
    "\n",
    "Описание колонок приведено в таблице ниже:\n",
    "\n",
    "|Column                    |Description     |\n",
    "|:-------------------------|:---------------|\n",
    "|Age                       |Возраст пациента|\n",
    "|Gender                    |Пол пациента|\n",
    "|TotalBilirubin            |Общий билирубин|\n",
    "|Direct_Bilirubin          |Прямой билирубин|\n",
    "|Alkaline_Phosphotase      |Щелочная фосфатаза|\n",
    "|Alamine_Aminotransferase  |Аламино-аминотрансфераза|\n",
    "|Aspartate_Aminotransferase|Аспартат-аминотрансфераза|\n",
    "|Total_Protiens            |Всего белков|\n",
    "|Albumin                   |Альбумин|\n",
    "|Albumin_and_Globulin_Ratio|Соотношение альбуминов и глобулинов|\n",
    "|Dataset123                |Поле, используемое для разделения данных на два набора (пациент с заболеванием печени или без заболевания).|\n",
    "\n",
    "[Оглавление](#contents)"
   ]
  },
  {
   "cell_type": "code",
   "execution_count": 2,
   "id": "fe296f95",
   "metadata": {},
   "outputs": [
    {
     "name": "stdout",
     "output_type": "stream",
     "text": [
      "<class 'pandas.core.frame.DataFrame'>\n",
      "RangeIndex: 587 entries, 0 to 586\n",
      "Data columns (total 11 columns):\n",
      " #   Column                      Non-Null Count  Dtype  \n",
      "---  ------                      --------------  -----  \n",
      " 0   Age                         587 non-null    int64  \n",
      " 1   Gender                      587 non-null    object \n",
      " 2   TotalBilirubin              585 non-null    float64\n",
      " 3   Direct_Bilirubin            587 non-null    float64\n",
      " 4   Alkaline_Phosphotase        586 non-null    float64\n",
      " 5   Alamine_Aminotransferase    587 non-null    int64  \n",
      " 6   Aspartate_Aminotransferase  587 non-null    object \n",
      " 7   Total_Protiens              587 non-null    float64\n",
      " 8   Albumin                     587 non-null    float64\n",
      " 9   Albumin_and_Globulin_Ratio  583 non-null    float64\n",
      " 10  Dataset123                  587 non-null    object \n",
      "dtypes: float64(6), int64(2), object(3)\n",
      "memory usage: 50.6+ KB\n"
     ]
    }
   ],
   "source": [
    "df.info()"
   ]
  },
  {
   "cell_type": "markdown",
   "id": "db2d73cd",
   "metadata": {},
   "source": [
    "<a id=\"title_13\"></a>\n",
    "__Названия столбцов и выявление проблем с названиями__\n",
    "\n",
    "Все названия записаны корректно, отсутствуют имена переменных, записанные через пробелы. Однако столбец 'Dataset123' подлежит переименованию на 'Is_sick', так как не отражает своего назначения.\n",
    "\n",
    "[Оглавление](#contents)"
   ]
  },
  {
   "cell_type": "code",
   "execution_count": 3,
   "id": "ea19a668",
   "metadata": {},
   "outputs": [
    {
     "data": {
      "text/plain": [
       "Index(['Age', 'Gender', 'TotalBilirubin', 'Direct_Bilirubin',\n",
       "       'Alkaline_Phosphotase', 'Alamine_Aminotransferase',\n",
       "       'Aspartate_Aminotransferase', 'Total_Protiens', 'Albumin',\n",
       "       'Albumin_and_Globulin_Ratio', 'Is_sick'],\n",
       "      dtype='object')"
      ]
     },
     "execution_count": 3,
     "metadata": {},
     "output_type": "execute_result"
    }
   ],
   "source": [
    "df = df.rename(columns={'Dataset123': 'Is_sick'})\n",
    "\n",
    "df.columns"
   ]
  },
  {
   "cell_type": "markdown",
   "id": "c0f430b8",
   "metadata": {},
   "source": [
    "<a id=\"title_14\"></a>\n",
    "__Выявление пропусков и их устранение__\n",
    "\n",
    "В строках номер 209, 241, 253 и 312 были обнаружены пропуски в столбце 'Albumin_and_Globulin_Ratio'\n",
    "\n",
    "В строке 540 был обнаружен пропуск в столбце 'Alkaline_Phosphotase'\n",
    "\n",
    "В строках 573 и 583 были обнаружены пропуски в столбце 'TotalBilirubin'\n",
    "\n",
    "[Оглавление](#contents)"
   ]
  },
  {
   "cell_type": "code",
   "execution_count": 4,
   "id": "2e78313b",
   "metadata": {},
   "outputs": [
    {
     "data": {
      "text/plain": [
       "'Датафрейм до обработки NaN значений:'"
      ]
     },
     "metadata": {},
     "output_type": "display_data"
    },
    {
     "data": {
      "text/html": [
       "<div>\n",
       "<style scoped>\n",
       "    .dataframe tbody tr th:only-of-type {\n",
       "        vertical-align: middle;\n",
       "    }\n",
       "\n",
       "    .dataframe tbody tr th {\n",
       "        vertical-align: top;\n",
       "    }\n",
       "\n",
       "    .dataframe thead th {\n",
       "        text-align: right;\n",
       "    }\n",
       "</style>\n",
       "<table border=\"1\" class=\"dataframe\">\n",
       "  <thead>\n",
       "    <tr style=\"text-align: right;\">\n",
       "      <th></th>\n",
       "      <th>Age</th>\n",
       "      <th>Gender</th>\n",
       "      <th>TotalBilirubin</th>\n",
       "      <th>Direct_Bilirubin</th>\n",
       "      <th>Alkaline_Phosphotase</th>\n",
       "      <th>Alamine_Aminotransferase</th>\n",
       "      <th>Aspartate_Aminotransferase</th>\n",
       "      <th>Total_Protiens</th>\n",
       "      <th>Albumin</th>\n",
       "      <th>Albumin_and_Globulin_Ratio</th>\n",
       "      <th>Is_sick</th>\n",
       "    </tr>\n",
       "  </thead>\n",
       "  <tbody>\n",
       "    <tr>\n",
       "      <th>209</th>\n",
       "      <td>45</td>\n",
       "      <td>Female</td>\n",
       "      <td>0.9</td>\n",
       "      <td>0.3</td>\n",
       "      <td>189.0</td>\n",
       "      <td>23</td>\n",
       "      <td>33</td>\n",
       "      <td>6.6</td>\n",
       "      <td>3.9</td>\n",
       "      <td>NaN</td>\n",
       "      <td>1</td>\n",
       "    </tr>\n",
       "    <tr>\n",
       "      <th>241</th>\n",
       "      <td>51</td>\n",
       "      <td>Male</td>\n",
       "      <td>0.8</td>\n",
       "      <td>0.2</td>\n",
       "      <td>230.0</td>\n",
       "      <td>24</td>\n",
       "      <td>46</td>\n",
       "      <td>6.5</td>\n",
       "      <td>3.1</td>\n",
       "      <td>NaN</td>\n",
       "      <td>1</td>\n",
       "    </tr>\n",
       "    <tr>\n",
       "      <th>253</th>\n",
       "      <td>35</td>\n",
       "      <td>Female</td>\n",
       "      <td>0.6</td>\n",
       "      <td>0.2</td>\n",
       "      <td>180.0</td>\n",
       "      <td>12</td>\n",
       "      <td>15</td>\n",
       "      <td>5.2</td>\n",
       "      <td>2.7</td>\n",
       "      <td>NaN</td>\n",
       "      <td>2</td>\n",
       "    </tr>\n",
       "    <tr>\n",
       "      <th>312</th>\n",
       "      <td>27</td>\n",
       "      <td>Male</td>\n",
       "      <td>1.3</td>\n",
       "      <td>0.6</td>\n",
       "      <td>106.0</td>\n",
       "      <td>25</td>\n",
       "      <td>54</td>\n",
       "      <td>8.5</td>\n",
       "      <td>4.8</td>\n",
       "      <td>NaN</td>\n",
       "      <td>2</td>\n",
       "    </tr>\n",
       "    <tr>\n",
       "      <th>540</th>\n",
       "      <td>42</td>\n",
       "      <td>Male</td>\n",
       "      <td>0.8</td>\n",
       "      <td>0.2</td>\n",
       "      <td>NaN</td>\n",
       "      <td>21</td>\n",
       "      <td>23</td>\n",
       "      <td>7.0</td>\n",
       "      <td>3.0</td>\n",
       "      <td>0.7</td>\n",
       "      <td>2</td>\n",
       "    </tr>\n",
       "    <tr>\n",
       "      <th>573</th>\n",
       "      <td>32</td>\n",
       "      <td>Male</td>\n",
       "      <td>NaN</td>\n",
       "      <td>1.6</td>\n",
       "      <td>612.0</td>\n",
       "      <td>50</td>\n",
       "      <td>88</td>\n",
       "      <td>6.2</td>\n",
       "      <td>1.9</td>\n",
       "      <td>0.4</td>\n",
       "      <td>1</td>\n",
       "    </tr>\n",
       "    <tr>\n",
       "      <th>583</th>\n",
       "      <td>38</td>\n",
       "      <td>Male</td>\n",
       "      <td>NaN</td>\n",
       "      <td>0.3</td>\n",
       "      <td>216.0</td>\n",
       "      <td>21</td>\n",
       "      <td>24</td>\n",
       "      <td>7.3</td>\n",
       "      <td>4.4</td>\n",
       "      <td>1.5</td>\n",
       "      <td>2</td>\n",
       "    </tr>\n",
       "  </tbody>\n",
       "</table>\n",
       "</div>"
      ],
      "text/plain": [
       "     Age  Gender  TotalBilirubin  Direct_Bilirubin  Alkaline_Phosphotase  \\\n",
       "209   45  Female             0.9               0.3                 189.0   \n",
       "241   51    Male             0.8               0.2                 230.0   \n",
       "253   35  Female             0.6               0.2                 180.0   \n",
       "312   27    Male             1.3               0.6                 106.0   \n",
       "540   42    Male             0.8               0.2                   NaN   \n",
       "573   32    Male             NaN               1.6                 612.0   \n",
       "583   38    Male             NaN               0.3                 216.0   \n",
       "\n",
       "     Alamine_Aminotransferase Aspartate_Aminotransferase  Total_Protiens  \\\n",
       "209                        23                         33             6.6   \n",
       "241                        24                         46             6.5   \n",
       "253                        12                         15             5.2   \n",
       "312                        25                         54             8.5   \n",
       "540                        21                         23             7.0   \n",
       "573                        50                         88             6.2   \n",
       "583                        21                         24             7.3   \n",
       "\n",
       "     Albumin  Albumin_and_Globulin_Ratio Is_sick  \n",
       "209      3.9                         NaN       1  \n",
       "241      3.1                         NaN       1  \n",
       "253      2.7                         NaN       2  \n",
       "312      4.8                         NaN       2  \n",
       "540      3.0                         0.7       2  \n",
       "573      1.9                         0.4       1  \n",
       "583      4.4                         1.5       2  "
      ]
     },
     "metadata": {},
     "output_type": "display_data"
    }
   ],
   "source": [
    "nan_condition = df['Alkaline_Phosphotase'].isnull() | df['Albumin_and_Globulin_Ratio'].isnull() | df['TotalBilirubin'].isnull()\n",
    "\n",
    "display('Датафрейм до обработки NaN значений:')\n",
    "display(df[nan_condition])\n",
    "\n",
    "df = df.dropna()"
   ]
  },
  {
   "cell_type": "markdown",
   "id": "8d76f46b",
   "metadata": {},
   "source": [
    " <a id=\"title_15\"></a>\n",
    " __Проверка дубликатов и их устранение__\n",
    "\n",
    "Явных дубликатов не обнаружено.\n",
    "\n",
    "Однако анализ неявных дубликатов (проверены только категориальные переменные) показал, что в колонке 'Gender' содержатся уникальные значения: _'Female', 'Male', 'Mal'_. Это говорит о том, что произошла опечатка и в записи со значением 'Mal' следует заменить это значение на 'Male'. \n",
    "\n",
    "В колонке 'Is_sick' содержатся уникальные значения: _'1' '2' 'yes'_. Это говорит о том, что был использован синонм категории, так как значения '1' и 'yes' обозначают одно и то же - пациент имеет заболевание печени. В записи со значением 'yes' следует заменить это значение на '1'. \n",
    "\n",
    "Дубликаты встретились в строках 89 (значение 'yes') и 574, 586 (значение 'Mal').\n",
    "\n",
    "[Оглавление](#contents)"
   ]
  },
  {
   "cell_type": "code",
   "execution_count": 5,
   "id": "7470176c",
   "metadata": {},
   "outputs": [
    {
     "data": {
      "text/plain": [
       "'Явные дубликаты (Не обнаружено):'"
      ]
     },
     "metadata": {},
     "output_type": "display_data"
    },
    {
     "data": {
      "text/html": [
       "<div>\n",
       "<style scoped>\n",
       "    .dataframe tbody tr th:only-of-type {\n",
       "        vertical-align: middle;\n",
       "    }\n",
       "\n",
       "    .dataframe tbody tr th {\n",
       "        vertical-align: top;\n",
       "    }\n",
       "\n",
       "    .dataframe thead th {\n",
       "        text-align: right;\n",
       "    }\n",
       "</style>\n",
       "<table border=\"1\" class=\"dataframe\">\n",
       "  <thead>\n",
       "    <tr style=\"text-align: right;\">\n",
       "      <th></th>\n",
       "      <th>Age</th>\n",
       "      <th>Gender</th>\n",
       "      <th>TotalBilirubin</th>\n",
       "      <th>Direct_Bilirubin</th>\n",
       "      <th>Alkaline_Phosphotase</th>\n",
       "      <th>Alamine_Aminotransferase</th>\n",
       "      <th>Aspartate_Aminotransferase</th>\n",
       "      <th>Total_Protiens</th>\n",
       "      <th>Albumin</th>\n",
       "      <th>Albumin_and_Globulin_Ratio</th>\n",
       "      <th>Is_sick</th>\n",
       "    </tr>\n",
       "  </thead>\n",
       "  <tbody>\n",
       "    <tr>\n",
       "      <th>19</th>\n",
       "      <td>40</td>\n",
       "      <td>Female</td>\n",
       "      <td>0.9</td>\n",
       "      <td>0.3</td>\n",
       "      <td>293.0</td>\n",
       "      <td>232</td>\n",
       "      <td>245</td>\n",
       "      <td>6.8</td>\n",
       "      <td>3.1</td>\n",
       "      <td>0.80</td>\n",
       "      <td>1</td>\n",
       "    </tr>\n",
       "    <tr>\n",
       "      <th>26</th>\n",
       "      <td>34</td>\n",
       "      <td>Male</td>\n",
       "      <td>4.1</td>\n",
       "      <td>2.0</td>\n",
       "      <td>289.0</td>\n",
       "      <td>875</td>\n",
       "      <td>731</td>\n",
       "      <td>5.0</td>\n",
       "      <td>2.7</td>\n",
       "      <td>1.10</td>\n",
       "      <td>1</td>\n",
       "    </tr>\n",
       "    <tr>\n",
       "      <th>34</th>\n",
       "      <td>38</td>\n",
       "      <td>Female</td>\n",
       "      <td>2.6</td>\n",
       "      <td>1.2</td>\n",
       "      <td>410.0</td>\n",
       "      <td>59</td>\n",
       "      <td>57</td>\n",
       "      <td>5.6</td>\n",
       "      <td>3.0</td>\n",
       "      <td>0.80</td>\n",
       "      <td>2</td>\n",
       "    </tr>\n",
       "    <tr>\n",
       "      <th>55</th>\n",
       "      <td>42</td>\n",
       "      <td>Male</td>\n",
       "      <td>8.9</td>\n",
       "      <td>4.5</td>\n",
       "      <td>272.0</td>\n",
       "      <td>31</td>\n",
       "      <td>61</td>\n",
       "      <td>5.8</td>\n",
       "      <td>2.0</td>\n",
       "      <td>0.50</td>\n",
       "      <td>1</td>\n",
       "    </tr>\n",
       "    <tr>\n",
       "      <th>62</th>\n",
       "      <td>58</td>\n",
       "      <td>Male</td>\n",
       "      <td>1.0</td>\n",
       "      <td>0.5</td>\n",
       "      <td>158.0</td>\n",
       "      <td>37</td>\n",
       "      <td>43</td>\n",
       "      <td>7.2</td>\n",
       "      <td>3.6</td>\n",
       "      <td>1.00</td>\n",
       "      <td>1</td>\n",
       "    </tr>\n",
       "    <tr>\n",
       "      <th>106</th>\n",
       "      <td>36</td>\n",
       "      <td>Male</td>\n",
       "      <td>5.3</td>\n",
       "      <td>2.3</td>\n",
       "      <td>145.0</td>\n",
       "      <td>32</td>\n",
       "      <td>92</td>\n",
       "      <td>5.1</td>\n",
       "      <td>2.6</td>\n",
       "      <td>1.00</td>\n",
       "      <td>2</td>\n",
       "    </tr>\n",
       "    <tr>\n",
       "      <th>108</th>\n",
       "      <td>36</td>\n",
       "      <td>Male</td>\n",
       "      <td>0.8</td>\n",
       "      <td>0.2</td>\n",
       "      <td>158.0</td>\n",
       "      <td>29</td>\n",
       "      <td>39</td>\n",
       "      <td>6.0</td>\n",
       "      <td>2.2</td>\n",
       "      <td>0.50</td>\n",
       "      <td>2</td>\n",
       "    </tr>\n",
       "    <tr>\n",
       "      <th>138</th>\n",
       "      <td>18</td>\n",
       "      <td>Male</td>\n",
       "      <td>0.8</td>\n",
       "      <td>0.2</td>\n",
       "      <td>282.0</td>\n",
       "      <td>72</td>\n",
       "      <td>140</td>\n",
       "      <td>5.5</td>\n",
       "      <td>2.5</td>\n",
       "      <td>0.80</td>\n",
       "      <td>1</td>\n",
       "    </tr>\n",
       "    <tr>\n",
       "      <th>143</th>\n",
       "      <td>30</td>\n",
       "      <td>Male</td>\n",
       "      <td>1.6</td>\n",
       "      <td>0.4</td>\n",
       "      <td>332.0</td>\n",
       "      <td>84</td>\n",
       "      <td>139</td>\n",
       "      <td>5.6</td>\n",
       "      <td>2.7</td>\n",
       "      <td>0.90</td>\n",
       "      <td>1</td>\n",
       "    </tr>\n",
       "    <tr>\n",
       "      <th>158</th>\n",
       "      <td>72</td>\n",
       "      <td>Male</td>\n",
       "      <td>0.7</td>\n",
       "      <td>0.1</td>\n",
       "      <td>196.0</td>\n",
       "      <td>20</td>\n",
       "      <td>35</td>\n",
       "      <td>5.8</td>\n",
       "      <td>2.0</td>\n",
       "      <td>0.50</td>\n",
       "      <td>1</td>\n",
       "    </tr>\n",
       "    <tr>\n",
       "      <th>164</th>\n",
       "      <td>39</td>\n",
       "      <td>Male</td>\n",
       "      <td>1.9</td>\n",
       "      <td>0.9</td>\n",
       "      <td>180.0</td>\n",
       "      <td>42</td>\n",
       "      <td>62</td>\n",
       "      <td>7.4</td>\n",
       "      <td>4.3</td>\n",
       "      <td>1.38</td>\n",
       "      <td>1</td>\n",
       "    </tr>\n",
       "    <tr>\n",
       "      <th>174</th>\n",
       "      <td>31</td>\n",
       "      <td>Male</td>\n",
       "      <td>0.6</td>\n",
       "      <td>0.1</td>\n",
       "      <td>175.0</td>\n",
       "      <td>48</td>\n",
       "      <td>34</td>\n",
       "      <td>6.0</td>\n",
       "      <td>3.7</td>\n",
       "      <td>1.60</td>\n",
       "      <td>1</td>\n",
       "    </tr>\n",
       "    <tr>\n",
       "      <th>201</th>\n",
       "      <td>49</td>\n",
       "      <td>Male</td>\n",
       "      <td>0.6</td>\n",
       "      <td>0.1</td>\n",
       "      <td>218.0</td>\n",
       "      <td>50</td>\n",
       "      <td>53</td>\n",
       "      <td>5.0</td>\n",
       "      <td>2.4</td>\n",
       "      <td>0.90</td>\n",
       "      <td>1</td>\n",
       "    </tr>\n",
       "    <tr>\n",
       "      <th>584</th>\n",
       "      <td>38</td>\n",
       "      <td>Male</td>\n",
       "      <td>1.0</td>\n",
       "      <td>0.3</td>\n",
       "      <td>216.0</td>\n",
       "      <td>21</td>\n",
       "      <td>24</td>\n",
       "      <td>7.3</td>\n",
       "      <td>4.4</td>\n",
       "      <td>1.50</td>\n",
       "      <td>2</td>\n",
       "    </tr>\n",
       "    <tr>\n",
       "      <th>585</th>\n",
       "      <td>40</td>\n",
       "      <td>Male</td>\n",
       "      <td>0.6</td>\n",
       "      <td>0.1</td>\n",
       "      <td>98.0</td>\n",
       "      <td>35</td>\n",
       "      <td>31</td>\n",
       "      <td>6.0</td>\n",
       "      <td>3.2</td>\n",
       "      <td>1.10</td>\n",
       "      <td>1</td>\n",
       "    </tr>\n",
       "  </tbody>\n",
       "</table>\n",
       "</div>"
      ],
      "text/plain": [
       "     Age  Gender  TotalBilirubin  Direct_Bilirubin  Alkaline_Phosphotase  \\\n",
       "19    40  Female             0.9               0.3                 293.0   \n",
       "26    34    Male             4.1               2.0                 289.0   \n",
       "34    38  Female             2.6               1.2                 410.0   \n",
       "55    42    Male             8.9               4.5                 272.0   \n",
       "62    58    Male             1.0               0.5                 158.0   \n",
       "106   36    Male             5.3               2.3                 145.0   \n",
       "108   36    Male             0.8               0.2                 158.0   \n",
       "138   18    Male             0.8               0.2                 282.0   \n",
       "143   30    Male             1.6               0.4                 332.0   \n",
       "158   72    Male             0.7               0.1                 196.0   \n",
       "164   39    Male             1.9               0.9                 180.0   \n",
       "174   31    Male             0.6               0.1                 175.0   \n",
       "201   49    Male             0.6               0.1                 218.0   \n",
       "584   38    Male             1.0               0.3                 216.0   \n",
       "585   40    Male             0.6               0.1                  98.0   \n",
       "\n",
       "     Alamine_Aminotransferase Aspartate_Aminotransferase  Total_Protiens  \\\n",
       "19                        232                        245             6.8   \n",
       "26                        875                        731             5.0   \n",
       "34                         59                         57             5.6   \n",
       "55                         31                         61             5.8   \n",
       "62                         37                         43             7.2   \n",
       "106                        32                         92             5.1   \n",
       "108                        29                         39             6.0   \n",
       "138                        72                        140             5.5   \n",
       "143                        84                        139             5.6   \n",
       "158                        20                         35             5.8   \n",
       "164                        42                         62             7.4   \n",
       "174                        48                         34             6.0   \n",
       "201                        50                         53             5.0   \n",
       "584                        21                         24             7.3   \n",
       "585                        35                         31             6.0   \n",
       "\n",
       "     Albumin  Albumin_and_Globulin_Ratio Is_sick  \n",
       "19       3.1                        0.80       1  \n",
       "26       2.7                        1.10       1  \n",
       "34       3.0                        0.80       2  \n",
       "55       2.0                        0.50       1  \n",
       "62       3.6                        1.00       1  \n",
       "106      2.6                        1.00       2  \n",
       "108      2.2                        0.50       2  \n",
       "138      2.5                        0.80       1  \n",
       "143      2.7                        0.90       1  \n",
       "158      2.0                        0.50       1  \n",
       "164      4.3                        1.38       1  \n",
       "174      3.7                        1.60       1  \n",
       "201      2.4                        0.90       1  \n",
       "584      4.4                        1.50       2  \n",
       "585      3.2                        1.10       1  "
      ]
     },
     "metadata": {},
     "output_type": "display_data"
    }
   ],
   "source": [
    "display('Явные дубликаты (Не обнаружено):')\n",
    "display(df[df.duplicated()])"
   ]
  },
  {
   "cell_type": "code",
   "execution_count": 6,
   "id": "cd8b9a74",
   "metadata": {
    "scrolled": true
   },
   "outputs": [
    {
     "data": {
      "text/plain": [
       "\"Unique 'Gender': 3 | ['Female' 'Male' 'Mal']\""
      ]
     },
     "metadata": {},
     "output_type": "display_data"
    },
    {
     "data": {
      "text/plain": [
       "\"Unique 'Is_sick': 3 | ['1' '2' 'yes']\""
      ]
     },
     "metadata": {},
     "output_type": "display_data"
    },
    {
     "data": {
      "text/plain": [
       "'Датафрейм до обработки неявных дубликатов: '"
      ]
     },
     "metadata": {},
     "output_type": "display_data"
    },
    {
     "data": {
      "text/html": [
       "<div>\n",
       "<style scoped>\n",
       "    .dataframe tbody tr th:only-of-type {\n",
       "        vertical-align: middle;\n",
       "    }\n",
       "\n",
       "    .dataframe tbody tr th {\n",
       "        vertical-align: top;\n",
       "    }\n",
       "\n",
       "    .dataframe thead th {\n",
       "        text-align: right;\n",
       "    }\n",
       "</style>\n",
       "<table border=\"1\" class=\"dataframe\">\n",
       "  <thead>\n",
       "    <tr style=\"text-align: right;\">\n",
       "      <th></th>\n",
       "      <th>Age</th>\n",
       "      <th>Gender</th>\n",
       "      <th>TotalBilirubin</th>\n",
       "      <th>Direct_Bilirubin</th>\n",
       "      <th>Alkaline_Phosphotase</th>\n",
       "      <th>Alamine_Aminotransferase</th>\n",
       "      <th>Aspartate_Aminotransferase</th>\n",
       "      <th>Total_Protiens</th>\n",
       "      <th>Albumin</th>\n",
       "      <th>Albumin_and_Globulin_Ratio</th>\n",
       "      <th>Is_sick</th>\n",
       "    </tr>\n",
       "  </thead>\n",
       "  <tbody>\n",
       "    <tr>\n",
       "      <th>89</th>\n",
       "      <td>60</td>\n",
       "      <td>Male</td>\n",
       "      <td>4.0</td>\n",
       "      <td>1.9</td>\n",
       "      <td>238.0</td>\n",
       "      <td>119</td>\n",
       "      <td>350</td>\n",
       "      <td>7.1</td>\n",
       "      <td>3.3</td>\n",
       "      <td>0.8</td>\n",
       "      <td>yes</td>\n",
       "    </tr>\n",
       "    <tr>\n",
       "      <th>574</th>\n",
       "      <td>32</td>\n",
       "      <td>Mal</td>\n",
       "      <td>12.1</td>\n",
       "      <td>6.0</td>\n",
       "      <td>515.0</td>\n",
       "      <td>48</td>\n",
       "      <td>92</td>\n",
       "      <td>6.6</td>\n",
       "      <td>2.4</td>\n",
       "      <td>0.5</td>\n",
       "      <td>1</td>\n",
       "    </tr>\n",
       "    <tr>\n",
       "      <th>586</th>\n",
       "      <td>40</td>\n",
       "      <td>Mal</td>\n",
       "      <td>0.6</td>\n",
       "      <td>0.1</td>\n",
       "      <td>98.0</td>\n",
       "      <td>35</td>\n",
       "      <td>31</td>\n",
       "      <td>6.0</td>\n",
       "      <td>3.2</td>\n",
       "      <td>1.1</td>\n",
       "      <td>1</td>\n",
       "    </tr>\n",
       "  </tbody>\n",
       "</table>\n",
       "</div>"
      ],
      "text/plain": [
       "     Age Gender  TotalBilirubin  Direct_Bilirubin  Alkaline_Phosphotase  \\\n",
       "89    60   Male             4.0               1.9                 238.0   \n",
       "574   32    Mal            12.1               6.0                 515.0   \n",
       "586   40    Mal             0.6               0.1                  98.0   \n",
       "\n",
       "     Alamine_Aminotransferase Aspartate_Aminotransferase  Total_Protiens  \\\n",
       "89                        119                        350             7.1   \n",
       "574                        48                         92             6.6   \n",
       "586                        35                         31             6.0   \n",
       "\n",
       "     Albumin  Albumin_and_Globulin_Ratio Is_sick  \n",
       "89       3.3                         0.8     yes  \n",
       "574      2.4                         0.5       1  \n",
       "586      3.2                         1.1       1  "
      ]
     },
     "metadata": {},
     "output_type": "display_data"
    },
    {
     "data": {
      "text/plain": [
       "'Датафрейм после обработки неявных дубликатов: '"
      ]
     },
     "metadata": {},
     "output_type": "display_data"
    },
    {
     "data": {
      "text/html": [
       "<div>\n",
       "<style scoped>\n",
       "    .dataframe tbody tr th:only-of-type {\n",
       "        vertical-align: middle;\n",
       "    }\n",
       "\n",
       "    .dataframe tbody tr th {\n",
       "        vertical-align: top;\n",
       "    }\n",
       "\n",
       "    .dataframe thead th {\n",
       "        text-align: right;\n",
       "    }\n",
       "</style>\n",
       "<table border=\"1\" class=\"dataframe\">\n",
       "  <thead>\n",
       "    <tr style=\"text-align: right;\">\n",
       "      <th></th>\n",
       "      <th>Age</th>\n",
       "      <th>Gender</th>\n",
       "      <th>TotalBilirubin</th>\n",
       "      <th>Direct_Bilirubin</th>\n",
       "      <th>Alkaline_Phosphotase</th>\n",
       "      <th>Alamine_Aminotransferase</th>\n",
       "      <th>Aspartate_Aminotransferase</th>\n",
       "      <th>Total_Protiens</th>\n",
       "      <th>Albumin</th>\n",
       "      <th>Albumin_and_Globulin_Ratio</th>\n",
       "      <th>Is_sick</th>\n",
       "    </tr>\n",
       "  </thead>\n",
       "  <tbody>\n",
       "    <tr>\n",
       "      <th>89</th>\n",
       "      <td>60</td>\n",
       "      <td>Male</td>\n",
       "      <td>4.0</td>\n",
       "      <td>1.9</td>\n",
       "      <td>238.0</td>\n",
       "      <td>119</td>\n",
       "      <td>350</td>\n",
       "      <td>7.1</td>\n",
       "      <td>3.3</td>\n",
       "      <td>0.8</td>\n",
       "      <td>1</td>\n",
       "    </tr>\n",
       "    <tr>\n",
       "      <th>574</th>\n",
       "      <td>32</td>\n",
       "      <td>Male</td>\n",
       "      <td>12.1</td>\n",
       "      <td>6.0</td>\n",
       "      <td>515.0</td>\n",
       "      <td>48</td>\n",
       "      <td>92</td>\n",
       "      <td>6.6</td>\n",
       "      <td>2.4</td>\n",
       "      <td>0.5</td>\n",
       "      <td>1</td>\n",
       "    </tr>\n",
       "    <tr>\n",
       "      <th>586</th>\n",
       "      <td>40</td>\n",
       "      <td>Male</td>\n",
       "      <td>0.6</td>\n",
       "      <td>0.1</td>\n",
       "      <td>98.0</td>\n",
       "      <td>35</td>\n",
       "      <td>31</td>\n",
       "      <td>6.0</td>\n",
       "      <td>3.2</td>\n",
       "      <td>1.1</td>\n",
       "      <td>1</td>\n",
       "    </tr>\n",
       "  </tbody>\n",
       "</table>\n",
       "</div>"
      ],
      "text/plain": [
       "     Age Gender  TotalBilirubin  Direct_Bilirubin  Alkaline_Phosphotase  \\\n",
       "89    60   Male             4.0               1.9                 238.0   \n",
       "574   32   Male            12.1               6.0                 515.0   \n",
       "586   40   Male             0.6               0.1                  98.0   \n",
       "\n",
       "     Alamine_Aminotransferase Aspartate_Aminotransferase  Total_Protiens  \\\n",
       "89                        119                        350             7.1   \n",
       "574                        48                         92             6.6   \n",
       "586                        35                         31             6.0   \n",
       "\n",
       "     Albumin  Albumin_and_Globulin_Ratio Is_sick  \n",
       "89       3.3                         0.8       1  \n",
       "574      2.4                         0.5       1  \n",
       "586      3.2                         1.1       1  "
      ]
     },
     "metadata": {},
     "output_type": "display_data"
    }
   ],
   "source": [
    "df_interesting_cols = ['Gender', 'Is_sick']\n",
    "\n",
    "for column in df_interesting_cols:\n",
    "    display(f\"Unique '{column}': {len(df[column].unique())} | {df[column].unique()}\")\n",
    "\n",
    "    \n",
    "to_replace_condition = (df['Gender'] == 'Mal') | (df['Is_sick'] == 'yes')\n",
    "display('Датафрейм до обработки неявных дубликатов: ')\n",
    "display(df[to_replace_condition])\n",
    "\n",
    "df.loc[df['Gender'] == 'Mal', 'Gender'] = 'Male'\n",
    "df.loc[df['Is_sick'] == 'yes', 'Is_sick'] = '1'\n",
    "\n",
    "display('Датафрейм после обработки неявных дубликатов: ')\n",
    "display(df[df.index.isin([89, 574, 586])])"
   ]
  },
  {
   "cell_type": "markdown",
   "id": "23ffa067",
   "metadata": {},
   "source": [
    "<a id=\"title_16\"></a>\n",
    "__Проверка типов данных__\n",
    "\n",
    "Основываясь на результатах __предварительной оценки__ данных изменяем типы данных столбцов 'Gender', 'Aspartate_Aminotransferase' и 'Is_sick' на 'category', 'int64' и 'bool', соответственно.\n",
    "\n",
    "Для получения 'False' значения типа 'bool' в колонке 'Is_sick' предварительно все записи со значениями '2' были заменны на пустую строку для корректного преведения типов.\n",
    "\n",
    "В результате перевода 'Aspartate_Aminotransferase' в 'int64' была найдена одна строка со значением '3a4' на позиции 88. Значение списано на опечатку и заменено на '34'.\n",
    "\n",
    "[Оглавление](#contents)"
   ]
  },
  {
   "cell_type": "code",
   "execution_count": 7,
   "id": "3dd1d926",
   "metadata": {},
   "outputs": [
    {
     "data": {
      "text/html": [
       "<div>\n",
       "<style scoped>\n",
       "    .dataframe tbody tr th:only-of-type {\n",
       "        vertical-align: middle;\n",
       "    }\n",
       "\n",
       "    .dataframe tbody tr th {\n",
       "        vertical-align: top;\n",
       "    }\n",
       "\n",
       "    .dataframe thead th {\n",
       "        text-align: right;\n",
       "    }\n",
       "</style>\n",
       "<table border=\"1\" class=\"dataframe\">\n",
       "  <thead>\n",
       "    <tr style=\"text-align: right;\">\n",
       "      <th></th>\n",
       "      <th>Age</th>\n",
       "      <th>Gender</th>\n",
       "      <th>TotalBilirubin</th>\n",
       "      <th>Direct_Bilirubin</th>\n",
       "      <th>Alkaline_Phosphotase</th>\n",
       "      <th>Alamine_Aminotransferase</th>\n",
       "      <th>Aspartate_Aminotransferase</th>\n",
       "      <th>Total_Protiens</th>\n",
       "      <th>Albumin</th>\n",
       "      <th>Albumin_and_Globulin_Ratio</th>\n",
       "      <th>Is_sick</th>\n",
       "    </tr>\n",
       "  </thead>\n",
       "  <tbody>\n",
       "    <tr>\n",
       "      <th>581</th>\n",
       "      <td>31</td>\n",
       "      <td>Male</td>\n",
       "      <td>1.3</td>\n",
       "      <td>0.5</td>\n",
       "      <td>184.0</td>\n",
       "      <td>29</td>\n",
       "      <td>32</td>\n",
       "      <td>6.8</td>\n",
       "      <td>3.4</td>\n",
       "      <td>1.0</td>\n",
       "      <td>True</td>\n",
       "    </tr>\n",
       "    <tr>\n",
       "      <th>582</th>\n",
       "      <td>38</td>\n",
       "      <td>Male</td>\n",
       "      <td>1.0</td>\n",
       "      <td>0.3</td>\n",
       "      <td>216.0</td>\n",
       "      <td>21</td>\n",
       "      <td>24</td>\n",
       "      <td>7.3</td>\n",
       "      <td>4.4</td>\n",
       "      <td>1.5</td>\n",
       "      <td>False</td>\n",
       "    </tr>\n",
       "    <tr>\n",
       "      <th>584</th>\n",
       "      <td>38</td>\n",
       "      <td>Male</td>\n",
       "      <td>1.0</td>\n",
       "      <td>0.3</td>\n",
       "      <td>216.0</td>\n",
       "      <td>21</td>\n",
       "      <td>24</td>\n",
       "      <td>7.3</td>\n",
       "      <td>4.4</td>\n",
       "      <td>1.5</td>\n",
       "      <td>False</td>\n",
       "    </tr>\n",
       "    <tr>\n",
       "      <th>585</th>\n",
       "      <td>40</td>\n",
       "      <td>Male</td>\n",
       "      <td>0.6</td>\n",
       "      <td>0.1</td>\n",
       "      <td>98.0</td>\n",
       "      <td>35</td>\n",
       "      <td>31</td>\n",
       "      <td>6.0</td>\n",
       "      <td>3.2</td>\n",
       "      <td>1.1</td>\n",
       "      <td>True</td>\n",
       "    </tr>\n",
       "    <tr>\n",
       "      <th>586</th>\n",
       "      <td>40</td>\n",
       "      <td>Male</td>\n",
       "      <td>0.6</td>\n",
       "      <td>0.1</td>\n",
       "      <td>98.0</td>\n",
       "      <td>35</td>\n",
       "      <td>31</td>\n",
       "      <td>6.0</td>\n",
       "      <td>3.2</td>\n",
       "      <td>1.1</td>\n",
       "      <td>True</td>\n",
       "    </tr>\n",
       "  </tbody>\n",
       "</table>\n",
       "</div>"
      ],
      "text/plain": [
       "     Age Gender  TotalBilirubin  Direct_Bilirubin  Alkaline_Phosphotase  \\\n",
       "581   31   Male             1.3               0.5                 184.0   \n",
       "582   38   Male             1.0               0.3                 216.0   \n",
       "584   38   Male             1.0               0.3                 216.0   \n",
       "585   40   Male             0.6               0.1                  98.0   \n",
       "586   40   Male             0.6               0.1                  98.0   \n",
       "\n",
       "     Alamine_Aminotransferase  Aspartate_Aminotransferase  Total_Protiens  \\\n",
       "581                        29                          32             6.8   \n",
       "582                        21                          24             7.3   \n",
       "584                        21                          24             7.3   \n",
       "585                        35                          31             6.0   \n",
       "586                        35                          31             6.0   \n",
       "\n",
       "     Albumin  Albumin_and_Globulin_Ratio  Is_sick  \n",
       "581      3.4                         1.0     True  \n",
       "582      4.4                         1.5    False  \n",
       "584      4.4                         1.5    False  \n",
       "585      3.2                         1.1     True  \n",
       "586      3.2                         1.1     True  "
      ]
     },
     "metadata": {},
     "output_type": "display_data"
    },
    {
     "name": "stdout",
     "output_type": "stream",
     "text": [
      "<class 'pandas.core.frame.DataFrame'>\n",
      "Int64Index: 580 entries, 0 to 586\n",
      "Data columns (total 11 columns):\n",
      " #   Column                      Non-Null Count  Dtype   \n",
      "---  ------                      --------------  -----   \n",
      " 0   Age                         580 non-null    int64   \n",
      " 1   Gender                      580 non-null    category\n",
      " 2   TotalBilirubin              580 non-null    float64 \n",
      " 3   Direct_Bilirubin            580 non-null    float64 \n",
      " 4   Alkaline_Phosphotase        580 non-null    float64 \n",
      " 5   Alamine_Aminotransferase    580 non-null    int64   \n",
      " 6   Aspartate_Aminotransferase  580 non-null    int32   \n",
      " 7   Total_Protiens              580 non-null    float64 \n",
      " 8   Albumin                     580 non-null    float64 \n",
      " 9   Albumin_and_Globulin_Ratio  580 non-null    float64 \n",
      " 10  Is_sick                     580 non-null    bool    \n",
      "dtypes: bool(1), category(1), float64(6), int32(1), int64(2)\n",
      "memory usage: 60.5 KB\n"
     ]
    }
   ],
   "source": [
    "df.at[88, 'Aspartate_Aminotransferase'] = '34'\n",
    "df.loc[df['Is_sick'] == '2', 'Is_sick'] = ''\n",
    "\n",
    "df['Aspartate_Aminotransferase'] = df['Aspartate_Aminotransferase'].astype('int')\n",
    "df['Is_sick'] = df['Is_sick'].astype('bool')\n",
    "df['Gender'] = df['Gender'].astype('category')\n",
    "\n",
    "display(df.tail(5))\n",
    "df.info()"
   ]
  },
  {
   "cell_type": "markdown",
   "id": "df9c8f7e",
   "metadata": {},
   "source": [
    "<a id=\"title_2\"></a>\n",
    "# 2. Выполнение кластеризации объектов"
   ]
  },
  {
   "cell_type": "markdown",
   "id": "409da12c",
   "metadata": {},
   "source": [
    "__Предварительная стандартизация данных__\n",
    "\n",
    "\n",
    "[Оглавление](#contents)"
   ]
  },
  {
   "cell_type": "code",
   "execution_count": 8,
   "id": "30f4f44f",
   "metadata": {},
   "outputs": [],
   "source": [
    "import sklearn\n",
    "from sklearn.preprocessing import StandardScaler\n",
    "\n",
    "\n",
    "cols_to_cluster = ['TotalBilirubin', 'Direct_Bilirubin', 'Alkaline_Phosphotase',\n",
    "                  'Alamine_Aminotransferase', 'Aspartate_Aminotransferase',\n",
    "                  'Total_Protiens', 'Albumin', 'Albumin_and_Globulin_Ratio']\n",
    "\n",
    "df_sklearn = df[cols_to_cluster]\n",
    "\n",
    "scaler = StandardScaler()\n",
    "scaler.fit(df_sklearn)\n",
    "X_sc = scaler.transform(df_sklearn)"
   ]
  },
  {
   "cell_type": "markdown",
   "id": "572cd259",
   "metadata": {},
   "source": [
    "<a id=\"title_21\"></a>\n",
    "__Иерархический агломеративный метод__\n",
    "\n",
    "В результате применения данного метода данные были разделены на 4 кластера.\n",
    "\n",
    "[Оглавление](#contents)"
   ]
  },
  {
   "cell_type": "code",
   "execution_count": 19,
   "id": "774cf287",
   "metadata": {},
   "outputs": [
    {
     "data": {
      "image/png": "[encoded data removed]",
      "text/plain": [
       "<Figure size 720x504 with 1 Axes>"
      ]
     },
     "metadata": {
      "needs_background": "light"
     },
     "output_type": "display_data"
    },
    {
     "data": {
      "text/plain": [
       "(579, 4)"
      ]
     },
     "execution_count": 19,
     "metadata": {},
     "output_type": "execute_result"
    }
   ],
   "source": [
    "from scipy.cluster.hierarchy import dendrogram, linkage\n",
    "\n",
    "sc = StandardScaler()\n",
    "X_sc = sc.fit_transform(df_sklearn)\n",
    "linked = linkage(X_sc, method='ward')\n",
    "\n",
    "plt.figure(figsize=(10, 7))\n",
    "dendrogram(linked, orientation='top')\n",
    "plt.title('Hierarchial cluster')\n",
    "plt.show()\n",
    "linked.shape"
   ]
  },
  {
   "cell_type": "markdown",
   "id": "2d96cd7c",
   "metadata": {},
   "source": [
    "<a id=\"title_22\"></a>\n",
    "__Метод K-средних__\n",
    "\n",
    "Методом перебора было определено оптимальное количество кластеров - 4. \n",
    "\n",
    "Оценка оптимальности основана на метрике силуэта:\n",
    "$$Silhouette = \\frac{1}{n} \\cdot \\sum_{c_k \\in C}\\sum_{x_i \\in c_k} \\frac{b(x_i, c_k) - a(x_i, c_k)}{\\max[a(x_i, c_k), b(x_i, c_k)]}$$\n",
    "\n",
    "[Оглавление](#contents)"
   ]
  },
  {
   "cell_type": "code",
   "execution_count": 10,
   "id": "59892ccd",
   "metadata": {},
   "outputs": [
    {
     "data": {
      "text/plain": [
       "0.31232593027036426"
      ]
     },
     "execution_count": 10,
     "metadata": {},
     "output_type": "execute_result"
    }
   ],
   "source": [
    "from sklearn.cluster import KMeans\n",
    "from sklearn.metrics import silhouette_score\n",
    "\n",
    "sc = StandardScaler()\n",
    "X_sc = sc.fit_transform(df_sklearn)\n",
    "km = KMeans(n_clusters=4, random_state=3)\n",
    "labels = km.fit_predict(X_sc)\n",
    "df['Cluster'] = labels\n",
    "\n",
    "\n",
    "silhouette_score(X_sc, labels)"
   ]
  },
  {
   "cell_type": "markdown",
   "id": "61d29727",
   "metadata": {},
   "source": [
    "<a id=\"title_23\"></a>\n",
    "__Описание полученных кластеров в терминах предметной области__\n",
    "\n",
    "Из полученных кластеров можно выделить следующие закономерности и зависимости.\n",
    "\n",
    "Данных кластера 3 наблюдается повышенное среднее занчение показателей 'Alamine_Aminotransferase' и 'Aspartate_Aminotransferase'.\n",
    "\n",
    "Кластер 2 выделился повышенным средним занчением показателя 'Alkaline_Phosphotase'.\n",
    "\n",
    "Также можно заметить, что средние значения кластеров последовательно увеличиваются в следующем порядке (в порядке возрастания):\n",
    "* Кластер 2 (237 записей из которых 144 имеют заболевания печени)\n",
    "* Кластер 0 (291 запись из которых 219 имеют заболевания печени)\n",
    "* Кластер 1 (42 записи из которых 42 имеют заболевания печени)\n",
    "* Кластер 3 (10 записей из которых 10 имеют заболевания печени)\n",
    "\n",
    "Количество и относительный процент пациентов, имеющих заболевания печени также растет с увеличением порядка кластеров. Так, в класерах 2 и 0 процент больных 60.7 % и 75.3 %, соответственно, а в кластерах 1 и 3 - нет здоровых.\n",
    "\n",
    "Помимо этого, проведя анализ по половым признакам, оказалось, что также с ростом порядка кластера уменьшается доля женщин. Так в кластере 2 доля женщин составляет 60 %, а в кластере 3 женщины отсутствуют.\n",
    "\n",
    "Анализ возраста показал, что заболевание чаще встречается у людей в возрасте от 30 до 60.\n",
    "\n",
    "В итоге имеем:\n",
    "На диагностирование заболеваний печени в большей мере влияют признаки 'Alamine_Aminotransferase', 'Aspartate_Aminotransferase' и 'Alkaline_Phosphotase'.\n",
    "Мужчины более подвержены заболеваниям печени, чем женщины.\n",
    "\n",
    "[Оглавление](#contents)"
   ]
  },
  {
   "cell_type": "markdown",
   "id": "772752a6",
   "metadata": {},
   "source": [
    "Анализ доли имеющих заболевания печени в кластерах:"
   ]
  },
  {
   "cell_type": "code",
   "execution_count": 11,
   "id": "efb434b3",
   "metadata": {},
   "outputs": [
    {
     "data": {
      "text/plain": [
       "'Кластер 2. Имеют заболевание печени: 144 из 237. 60.75949367088608 %'"
      ]
     },
     "metadata": {},
     "output_type": "display_data"
    },
    {
     "data": {
      "text/plain": [
       "'Кластер 0. Имеют заболевание печени: 219 из 291. 75.25773195876289 %'"
      ]
     },
     "metadata": {},
     "output_type": "display_data"
    },
    {
     "data": {
      "text/plain": [
       "'Кластер 1. Имеют заболевание печени: 42 из 42. 100.0 %'"
      ]
     },
     "metadata": {},
     "output_type": "display_data"
    },
    {
     "data": {
      "text/plain": [
       "'Кластер 3. Имеют заболевание печени: 10 из 10. 100.0 %'"
      ]
     },
     "metadata": {},
     "output_type": "display_data"
    }
   ],
   "source": [
    "for cluster in [2, 0, 1, 3]:\n",
    "    total_in_cluster = len(df[df['Cluster'] == cluster])\n",
    "    sick_in_cluster = len(df[(df['Cluster'] == cluster) & (df['Is_sick'] == True)])\n",
    "    display(f'Кластер { cluster }. Имеют заболевание печени: { sick_in_cluster } из { total_in_cluster }. {sick_in_cluster/total_in_cluster * 100} %')"
   ]
  },
  {
   "cell_type": "markdown",
   "id": "7a33c02e",
   "metadata": {},
   "source": [
    "Анализ влияния половых признаков на принадлежность к кластеру:"
   ]
  },
  {
   "cell_type": "code",
   "execution_count": 12,
   "id": "f60d5045",
   "metadata": {},
   "outputs": [
    {
     "data": {
      "text/plain": [
       "'Кластер 2. Женщин: 66 из 237. 27.848101265822784 %'"
      ]
     },
     "metadata": {},
     "output_type": "display_data"
    },
    {
     "data": {
      "text/plain": [
       "'Кластер 0. Женщин: 66 из 291. 22.68041237113402 %'"
      ]
     },
     "metadata": {},
     "output_type": "display_data"
    },
    {
     "data": {
      "text/plain": [
       "'Кластер 1. Женщин: 8 из 42. 19.047619047619047 %'"
      ]
     },
     "metadata": {},
     "output_type": "display_data"
    },
    {
     "data": {
      "text/plain": [
       "'Кластер 3. Женщин: 0 из 10. 0.0 %'"
      ]
     },
     "metadata": {},
     "output_type": "display_data"
    }
   ],
   "source": [
    "for cluster in [2, 0, 1, 3]:\n",
    "    total_in_cluster = len(df[df['Cluster'] == cluster])\n",
    "    female_in_cluster = len(df[(df['Cluster'] == cluster) & (df['Gender'] == 'Female')])\n",
    "    display(f'Кластер { cluster }. Женщин: { female_in_cluster } из { total_in_cluster }. {female_in_cluster/total_in_cluster * 100} %')"
   ]
  },
  {
   "cell_type": "markdown",
   "id": "11d02695",
   "metadata": {},
   "source": [
    "Анализ средних значений кластеров:"
   ]
  },
  {
   "cell_type": "code",
   "execution_count": 13,
   "id": "182b8eda",
   "metadata": {},
   "outputs": [
    {
     "data": {
      "image/png": "[encoded data removed]",
      "text/plain": [
       "<Figure size 720x720 with 1 Axes>"
      ]
     },
     "metadata": {
      "needs_background": "light"
     },
     "output_type": "display_data"
    }
   ],
   "source": [
    "df_to_plot = df[['Age', 'TotalBilirubin', 'Direct_Bilirubin', 'Alkaline_Phosphotase',\n",
    "                  'Alamine_Aminotransferase', 'Aspartate_Aminotransferase',\n",
    "                  'Total_Protiens', 'Albumin', 'Albumin_and_Globulin_Ratio']]\n",
    "\n",
    "plt.figure(figsize=(10, 10))\n",
    "for cluster in range(0, 4):\n",
    "    plt.plot(df_to_plot[df['Cluster'] == cluster].mean(numeric_only=True))\n",
    "    \n",
    "plt.tick_params(axis='x',rotation=45)\n",
    "plt.legend(range(0, 4), loc=\"upper right\")\n",
    "plt.grid()\n",
    "plt.show()"
   ]
  },
  {
   "cell_type": "markdown",
   "id": "1ccde383",
   "metadata": {},
   "source": [
    "Анализ возраста:"
   ]
  },
  {
   "cell_type": "code",
   "execution_count": 14,
   "id": "6a99aa6c",
   "metadata": {},
   "outputs": [
    {
     "data": {
      "text/plain": [
       "'Cluster 2. Mean: 40.265822784810126.'"
      ]
     },
     "metadata": {},
     "output_type": "display_data"
    },
    {
     "data": {
      "image/png": "[encoded data removed]",
      "text/plain": [
       "<Figure size 432x288 with 1 Axes>"
      ]
     },
     "metadata": {
      "needs_background": "light"
     },
     "output_type": "display_data"
    },
    {
     "data": {
      "text/plain": [
       "'Cluster 0. Mean: 48.608247422680414.'"
      ]
     },
     "metadata": {},
     "output_type": "display_data"
    },
    {
     "data": {
      "image/png": "[encoded data removed]",
      "text/plain": [
       "<Figure size 432x288 with 1 Axes>"
      ]
     },
     "metadata": {
      "needs_background": "light"
     },
     "output_type": "display_data"
    },
    {
     "data": {
      "text/plain": [
       "'Cluster 1. Mean: 45.42857142857143.'"
      ]
     },
     "metadata": {},
     "output_type": "display_data"
    },
    {
     "data": {
      "image/png": "[encoded data removed]",
      "text/plain": [
       "<Figure size 432x288 with 1 Axes>"
      ]
     },
     "metadata": {
      "needs_background": "light"
     },
     "output_type": "display_data"
    },
    {
     "data": {
      "text/plain": [
       "'Cluster 3. Mean: 37.7.'"
      ]
     },
     "metadata": {},
     "output_type": "display_data"
    },
    {
     "data": {
      "image/png": "[encoded data removed]",
      "text/plain": [
       "<Figure size 432x288 with 1 Axes>"
      ]
     },
     "metadata": {
      "needs_background": "light"
     },
     "output_type": "display_data"
    }
   ],
   "source": [
    "df1 = df['Age']\n",
    "for cl in [2, 0, 1, 3]:\n",
    "    m = df1[df['Cluster'] == cl].mean()\n",
    "    display(f'Cluster {cl}. Mean: {m}.')\n",
    "    data = df1[df['Cluster'] == cl].value_counts()\n",
    "    plt.bar(data.index, height=data.values)\n",
    "    plt.show()"
   ]
  },
  {
   "cell_type": "markdown",
   "id": "a147a257",
   "metadata": {},
   "source": []
  },
  {
   "cell_type": "code",
   "execution_count": null,
   "id": "dd2f1f40",
   "metadata": {},
   "outputs": [],
   "source": []
  },
  {
   "cell_type": "code",
   "execution_count": null,
   "id": "19af4d35",
   "metadata": {},
   "outputs": [],
   "source": []
  },
  {
   "cell_type": "code",
   "execution_count": null,
   "id": "1f22bd55",
   "metadata": {},
   "outputs": [],
   "source": []
  }
 ],
 "metadata": {
  "kernelspec": {
   "display_name": "Python 3 (ipykernel)",
   "language": "python",
   "name": "python3"
  },
  "language_info": {
   "codemirror_mode": {
    "name": "ipython",
    "version": 3
   },
   "file_extension": ".py",
   "mimetype": "text/x-python",
   "name": "python",
   "nbconvert_exporter": "python",
   "pygments_lexer": "ipython3",
   "version": "3.9.12"
  }
 },
 "nbformat": 4,
 "nbformat_minor": 5
}
